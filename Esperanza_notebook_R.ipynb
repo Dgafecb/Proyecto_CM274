{
 "cells": [
  {
   "cell_type": "raw",
   "metadata": {},
   "source": [
    "<script>\n",
    "  jQuery(document).ready(function($) {\n",
    "\n",
    "  $(window).load(function(){\n",
    "    $('#preloader').fadeOut('slow',function(){$(this).remove();});\n",
    "  });\n",
    "\n",
    "  });\n",
    "</script>\n",
    "\n",
    "<style type=\"text/css\">\n",
    "  div#preloader { position: fixed;\n",
    "      left: 0;\n",
    "      top: 0;\n",
    "      z-index: 999;\n",
    "      width: 100%;\n",
    "      height: 100%;\n",
    "      overflow: visible;\n",
    "      background: #fff url('http://preloaders.net/preloaders/720/Moving%20line.gif') no-repeat center center;\n",
    "  }\n",
    "\n",
    "</style>\n",
    "\n",
    "<div id=\"preloader\"></div>"
   ]
  },
  {
   "cell_type": "raw",
   "metadata": {},
   "source": [
    "<script>\n",
    "  function code_toggle() {\n",
    "    if (code_shown){\n",
    "      $('div.input').hide('500');\n",
    "      $('#toggleButton').val('Show Code')\n",
    "    } else {\n",
    "      $('div.input').show('500');\n",
    "      $('#toggleButton').val('Hide Code')\n",
    "    }\n",
    "    code_shown = !code_shown\n",
    "  }\n",
    "\n",
    "  $( document ).ready(function(){\n",
    "    code_shown=false;\n",
    "    $('div.input').hide()\n",
    "  });\n",
    "</script>\n",
    "<form action=\"javascript:code_toggle()\"><input type=\"submit\" id=\"toggleButton\" value=\"Show Code\"></form>"
   ]
  },
  {
   "cell_type": "markdown",
   "metadata": {
    "collapsed": true
   },
   "source": [
    "# Bubble Sort\n",
    "### E(n) ~ ( tp(n) + to(n) ) / 2  ...(1)\n",
    "\n",
    "donde:\t<br>\n",
    "n\t\tes el numero de elementos del array,<br>\n",
    "tp(n)\tes el peor tiempo (array en orden descendiente)<br>\n",
    "to(n)\tes el mejor tiempo (array en orden ascendente)<br>\n",
    "\n",
    "La aproximacion se vuelve igualdad cuando n y n-1 no son\n",
    "multiplos de 4, en otro caso E es ligeramente menor.\n",
    "\n",
    "La recomendacion seria usar 99 elementos en lugar de 100\n",
    "para una mejor aproximacion, midiendo tp y to varias veces\n",
    "para mayor exactitud y promediar ambos valores para tener\n",
    "un tp y to medios, luego reemplazar arriba.\n"
   ]
  },
  {
   "cell_type": "code",
   "execution_count": 4,
   "metadata": {},
   "outputs": [
    {
     "data": {
      "text/html": [
       "'La esperanza para el Bubble sort para un array de 99 elementos es E(99) = 0.001665'"
      ],
      "text/latex": [
       "'La esperanza para el Bubble sort para un array de 99 elementos es E(99) = 0.001665'"
      ],
      "text/markdown": [
       "'La esperanza para el Bubble sort para un array de 99 elementos es E(99) = 0.001665'"
      ],
      "text/plain": [
       "[1] \"La esperanza para el Bubble sort para un array de 99 elementos es E(99) = 0.001665\""
      ]
     },
     "metadata": {},
     "output_type": "display_data"
    }
   ],
   "source": [
    "# Bubble Sort\n",
    "bubble_sort <- function(arr){\n",
    "    n <- length(arr)\n",
    "    for(i in 1:n){\n",
    "        for(j in 1:(n-1)){\n",
    "            if(arr[j] > arr[j+1]){\n",
    "                temp <- arr[j]\n",
    "                arr[j] <- arr[j+1]\n",
    "                arr[j+1]<- temp\n",
    "            }\n",
    "        }   \n",
    "    }\n",
    "    return(arr)\n",
    "} \n",
    "# test\n",
    "test_times <- vector() #Este vector almacena el array de tiempos de ejecucion de cada test\n",
    "for(i in 1:1000){\n",
    "    test_1 <- sample(1:100,99)\n",
    "    sort(test_1,decreasing = TRUE)\n",
    "    t_inicio <- Sys.time()\n",
    "    test_1 <- bubble_sort(test_1)\n",
    "    t_final <- Sys.time()\n",
    "    test_times[i] <- t_final-t_inicio\n",
    "}\n",
    "worst_time_bubble<- mean(test_times)\n",
    "#Ahora generamos un array para el mejor caso, que seria un array ordenado\n",
    "for(i in 1:1000){\n",
    "    test_2 <- sample(1:100,99)\n",
    "    sort(test_2)\n",
    "    t_inicio <- Sys.time()\n",
    "    test_2 <- bubble_sort(test_2)\n",
    "    t_final <- Sys.time()\n",
    "    test_times[i] <- t_final-t_inicio\n",
    "}\n",
    "best_time_bubble <- mean(test_times)\n",
    "#Ahora con los valores promedio de cada uno de sus peores casos, procedemos a reemplazar la ecuacion (1)\n",
    "#Para hallar la esperanza para n = 99\n",
    "expected_time_bubble <- (best_time_bubble + worst_time_bubble)/2\n",
    "sprintf(\"La esperanza para el Bubble sort para un array de 99 elementos es E(99) = %f\", expected_time_bubble)\n"
   ]
  },
  {
   "cell_type": "markdown",
   "metadata": {
    "collapsed": true
   },
   "source": [
    "# Insertion Sort\n",
    "### E(n) = ( tp(n) + to(n) ) / 2  ...(2)\n",
    "Como la leyenda es igual que el Bubble sort se resuelve de igual\n",
    "manera, aunque aqui si se puede usar 100 elementos."
   ]
  },
  {
   "cell_type": "code",
   "execution_count": 8,
   "metadata": {},
   "outputs": [
    {
     "data": {
      "text/html": [
       "'La esperanza para el Insertion sort para un array de 100 elementos es E(100) = 0.000631'"
      ],
      "text/latex": [
       "'La esperanza para el Insertion sort para un array de 100 elementos es E(100) = 0.000631'"
      ],
      "text/markdown": [
       "'La esperanza para el Insertion sort para un array de 100 elementos es E(100) = 0.000631'"
      ],
      "text/plain": [
       "[1] \"La esperanza para el Insertion sort para un array de 100 elementos es E(100) = 0.000631\""
      ]
     },
     "metadata": {},
     "output_type": "display_data"
    }
   ],
   "source": [
    "insertion_sort <- function(arr){\n",
    "    n <- length(arr)\n",
    "    for(i in 2:n){\n",
    "        key <- arr[i]\n",
    "        j <- i-1\n",
    "        while(j>0 && key < arr[j]){\n",
    "            arr[j+1] <- arr[j]\n",
    "            j <- j-1\n",
    "        } \n",
    "        arr[j+1] <- key\n",
    "    } \n",
    "    return(arr)\n",
    "} \n",
    "# test\n",
    "test_times <- vector()\n",
    "for(i in 1:1000){\n",
    "    test_3 <- sample(1:100,100)\n",
    "    sort(test_3,decreasing = TRUE)\n",
    "    t_inicio <- Sys.time()\n",
    "    test_3 <- insertion_sort(test_3)\n",
    "    t_final <- Sys.time()\n",
    "    test_times[i] <- t_final-t_inicio\n",
    "}\n",
    "worst_time_insert <- mean(test_times)\n",
    "#Ahora generamos un array para el mejor caso, que seria un array ordenado\n",
    "for(i in 1:1000){\n",
    "    test_4 <- sample(1:100,100)\n",
    "    sort(test_4)\n",
    "    t_inicio <- Sys.time()\n",
    "    test_4 <- insertion_sort(test_4)\n",
    "    t_final <- Sys.time()\n",
    "    test_times[i] <- t_final-t_inicio\n",
    "}\n",
    "best_time_insert <- mean(test_times)\n",
    "#Ahora con los valores promedio de cada uno de sus peores casos, procedemos a reemplazar la ecuacion (2)\n",
    "#Para hallar la esperanza para n = 100\n",
    "expected_time_insert <- (best_time_insert + worst_time_insert)/2\n",
    "sprintf(\"La esperanza para el Insertion sort para un array de 100 elementos es E(100) = %f\", expected_time_insert)"
   ]
  },
  {
   "cell_type": "markdown",
   "metadata": {},
   "source": [
    "# Merge Sort\n",
    "El tiempo de ejecucion no depende del ordenamiento de\n",
    "los numeros, es decir E(n) = k para cierto valor de n.\n",
    "En este caso, para hallar E simplemente se debe calcular\n",
    "el promedio de varios casos aleatorios del mismo tamaño."
   ]
  },
  {
   "cell_type": "code",
   "execution_count": 9,
   "metadata": {},
   "outputs": [
    {
     "data": {
      "text/html": [
       "'La esperanza para el Merge Sort para un array de 100 elementos es E(100) = 0.001007'"
      ],
      "text/latex": [
       "'La esperanza para el Merge Sort para un array de 100 elementos es E(100) = 0.001007'"
      ],
      "text/markdown": [
       "'La esperanza para el Merge Sort para un array de 100 elementos es E(100) = 0.001007'"
      ],
      "text/plain": [
       "[1] \"La esperanza para el Merge Sort para un array de 100 elementos es E(100) = 0.001007\""
      ]
     },
     "metadata": {},
     "output_type": "display_data"
    }
   ],
   "source": [
    "merge<-function(a,b) { #Une los 2 vectores a y b\n",
    "    r<-numeric(length(a)+length(b))\n",
    "    ai<-1; bi<-1; j<-1;\n",
    "    for(j in 1:length(r)) {\n",
    "        if((ai<=length(a) && a[ai]<b[bi]) || bi>length(b)) {\n",
    "            r[j] <- a[ai]\n",
    "            ai <- ai+1\n",
    "        } else { \n",
    "            r[j] <- b[bi]\n",
    "            bi <- bi+1          \n",
    "        }\n",
    "    }\n",
    "    return(r)\n",
    "} \n",
    "merge_sort<-function(A) {\n",
    "    if(length(A)>1) {\n",
    "        q <- ceiling(length(A)/2) # length(A)/2 si length(A) par o length(A)+1 /2 para length(A) impar\n",
    "        a <- merge_sort(A[1:q])\n",
    "        b <- merge_sort(A[(q+1):length(A)])\n",
    "        merge(a,b)\n",
    "    } else { \n",
    "        return(A)\n",
    "    } \n",
    "}\n",
    "# test\n",
    "test_times <- vector()\n",
    "for(i in 1:10000){\n",
    "    test_5 <- sample(1:100,100)\n",
    "    t_inicio <- Sys.time()\n",
    "    test_5 <- merge_sort(test_5)\n",
    "    t_final <- Sys.time()\n",
    "    test_times[i] <- t_final - t_inicio\n",
    "}\n",
    "expected_time_merge <- mean(test_times)\n",
    "sprintf(\"La esperanza para el Merge Sort para un array de 100 elementos es E(100) = %f\", expected_time_merge)"
   ]
  },
  {
   "cell_type": "markdown",
   "metadata": {},
   "source": [
    "# Quick Sort\n",
    "El algoritmo Quicksort usa un método llamado de “pivote” donde él ultimo termino generalmente se usa como pivote, \n",
    "en este caso, se ha aplicado el algoritmo a un grupo de 100 datos numéricos entre el 1 y el 1000 que son generados\n",
    "aleatoriamente y luego son ordenados de manera ascendente mediante el algoritmo quicksort.<br>\n",
    "Debido a que la eficiencia del algoritmo varia significativamente según la posición que ocupará el “pivote” al ser ordenado,\n",
    "se ha colocado la posición del “pivote” tras el ordenamiento y a su vez se ha colocado el tiempo del que tardó el algoritmo\n",
    "en realizar el ordenamiento.<br>\n",
    "Se observará que el mejor tiempo se dará cuando el “pivote” sea la mediana de los términos ordenados. Y que el peor de los\n",
    "casos, será cuando este ocupe la primera o ultima posición de los términos ordenados.<br>"
   ]
  },
  {
   "cell_type": "code",
   "execution_count": 10,
   "metadata": {},
   "outputs": [
    {
     "data": {
      "text/html": [
       "'La esperanza para el Quick Sort para un array de 100 elementos es E(100) = 0.000591'"
      ],
      "text/latex": [
       "'La esperanza para el Quick Sort para un array de 100 elementos es E(100) = 0.000591'"
      ],
      "text/markdown": [
       "'La esperanza para el Quick Sort para un array de 100 elementos es E(100) = 0.000591'"
      ],
      "text/plain": [
       "[1] \"La esperanza para el Quick Sort para un array de 100 elementos es E(100) = 0.000591\""
      ]
     },
     "metadata": {},
     "output_type": "display_data"
    }
   ],
   "source": [
    "#\n",
    "partition = function(data, i, f){\t\t\t\t# Se ordena el array respecto al ultimo elemento\n",
    "    pivot = data[f-1]\n",
    "    mid = i\n",
    "    num = i\n",
    "    \n",
    "    while(num < f-1){\n",
    "        if(data[num] < pivot){\n",
    "            buffer = data[mid]\n",
    "            data[mid] = data[num]\n",
    "            data[num] = buffer\n",
    "            mid = mid+1\n",
    "        }\n",
    "        num = num+1\n",
    "    }\n",
    "    \n",
    "    data[f-1] = data[mid]\n",
    "    data[mid] = pivot\n",
    "    \n",
    "    lista = list(\"d\"=data,\"n\"=mid)\t\t\t\t# Se retorna una lista con el array y el pivote\n",
    "    return(lista)\n",
    "}\n",
    "\n",
    "quick = function(data, i, f){\t\t\t\t\t# Funcion recursiva del quicksort\n",
    "    if(f-i > 1){\n",
    "        lista = partition(data, i, f)\n",
    "        data = lista$d\n",
    "        mid = lista$n\n",
    "        \n",
    "        data=quick(data, i, mid)\n",
    "        data=quick(data, mid+1, f)\n",
    "    }\n",
    "    return(data)\n",
    "}\n",
    "\n",
    "quicksort = function(data){\t\t\t\t\t\t# Funcion meramente estetica\n",
    "    return(quick(data, 1, length(data)+1))\n",
    "}\n",
    "# test\n",
    "test_times1 <- vector()\n",
    "for(i in 1:10000){\n",
    "    test_6 <- sample(1:100,100)\n",
    "    t_inicio <- Sys.time()\n",
    "    quicksort(test_6)\n",
    "    t_final <- Sys.time()\n",
    "    test_times1[i] <- t_final - t_inicio\n",
    "}\n",
    "expected_time_quick <- mean(test_times1)\n",
    "sprintf(\"La esperanza para el Quick Sort para un array de 100 elementos es E(100) = %f\", expected_time_quick)"
   ]
  },
  {
   "cell_type": "markdown",
   "metadata": {},
   "source": [
    "# Bucket Sort\n",
    "El algoritmo de Bucketsort es una “variante” del algoritmo de Quicksort ya explicado antes, lo que se hace es dividir los datos\n",
    "numéricos entre una potencia de 10, tal que todos tengan al menos un decimal, después de esto se tomará máximo entero a cada término, y los que tengan el mismo máximo entero se agruparán en un sub-array o también llamado “cubeta”(Bucket), finalmente se aplicará Quicksort dentro de cada cubeta y se procederá multiplicar por la misma potencia de 10 entre la cual se dividió. Cabe destacar que la esperanza de este método es n^2, y que la esperanza del quicksort para cantidades pequeñas de datos es casi lineal.<br>\n",
    "Finalmente diremos que el Bucketsort adquiere su máxima efectividad cuando las cubetas está distribuidas de manera igual o muy parecida, o sea cuando cada cubeta tiene (casi) el mismo numero de elementos.<br>"
   ]
  },
  {
   "cell_type": "code",
   "execution_count": 11,
   "metadata": {},
   "outputs": [
    {
     "data": {
      "text/html": [
       "'La esperanza para el Bucket Sort para un array de 100 elementos es E(100) = 0.000586'"
      ],
      "text/latex": [
       "'La esperanza para el Bucket Sort para un array de 100 elementos es E(100) = 0.000586'"
      ],
      "text/markdown": [
       "'La esperanza para el Bucket Sort para un array de 100 elementos es E(100) = 0.000586'"
      ],
      "text/plain": [
       "[1] \"La esperanza para el Bucket Sort para un array de 100 elementos es E(100) = 0.000586\""
      ]
     },
     "metadata": {},
     "output_type": "display_data"
    }
   ],
   "source": [
    "bucketsort = function(data){\t\t\t\t\t# Se crea una lista de 10 canastas o buckets\n",
    "    buckets = list(c(), c(), c(), c(), c(), c(), c(), c(), c(), c())\n",
    "    i = 1\n",
    "    while(i <= length(data)){\t\t\t\t\t# Se añaden los elementos mediante hash\n",
    "        index = ceiling(data[i]/10)\n",
    "        buckets[[index]] = c(buckets[[index]], data[i])\n",
    "        i = i+1\n",
    "    }\n",
    "    i = 1\n",
    "    newData = c()\n",
    "    while(i <= 10){\t\t\t\t\t\t\t\t# Se llama a quicksort dentro de cada bucket\n",
    "        adding = quicksort(buckets[[i]])\n",
    "        newData = c(newData, adding)\n",
    "        i = i+1\n",
    "    }\n",
    "    return(newData)\t\t\t\t\t\t\t\t# Retorna la suma de todos los buckets\n",
    "}\n",
    "# test\n",
    "test_times2 <- vector()\n",
    "for(i in 1:10000){\n",
    "    test_7 <- sample(1:100,100)\n",
    "    t_inicio <- Sys.time()\n",
    "    bucketsort(test_7)\n",
    "    t_final <- Sys.time()\n",
    "    test_times2[i] <- t_final - t_inicio\n",
    "}\n",
    "expected_time_bucket <- mean(test_times2)\n",
    "sprintf(\"La esperanza para el Bucket Sort para un array de 100 elementos es E(100) = %f\", expected_time_bucket)"
   ]
  }
 ],
 "metadata": {
  "kernelspec": {
   "display_name": "R",
   "language": "R",
   "name": "ir"
  },
  "language_info": {
   "codemirror_mode": "r",
   "file_extension": ".r",
   "mimetype": "text/x-r-source",
   "name": "R",
   "pygments_lexer": "r",
   "version": "3.4.2"
  }
 },
 "nbformat": 4,
 "nbformat_minor": 2
}
